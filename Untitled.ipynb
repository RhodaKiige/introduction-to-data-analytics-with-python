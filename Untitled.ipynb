{
 "cells": [
  {
   "cell_type": "code",
   "execution_count": null,
   "id": "53e273ef-7230-4137-819a-64cc3f368084",
   "metadata": {},
   "outputs": [],
   "source": [
    "total=0\n",
    "for x in range (5):\n",
    "    x= int(input('enter score'))\n",
    "    total +=x\n",
    "\n",
    "print (\"\\n\",total, 'average', total/5)"
   ]
  },
  {
   "cell_type": "code",
   "execution_count": null,
   "id": "31c64cd5-ce7a-445d-9acb-be792f244023",
   "metadata": {},
   "outputs": [],
   "source": []
  }
 ],
 "metadata": {
  "kernelspec": {
   "display_name": "Python 3 (ipykernel)",
   "language": "python",
   "name": "python3"
  },
  "language_info": {
   "codemirror_mode": {
    "name": "ipython",
    "version": 3
   },
   "file_extension": ".py",
   "mimetype": "text/x-python",
   "name": "python",
   "nbconvert_exporter": "python",
   "pygments_lexer": "ipython3",
   "version": "3.12.4"
  }
 },
 "nbformat": 4,
 "nbformat_minor": 5
}
