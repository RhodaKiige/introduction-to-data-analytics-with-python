{
 "cells": [
  {
   "cell_type": "code",
   "execution_count": 42,
   "id": "584a479b-25b1-402e-af46-4718045cd092",
   "metadata": {},
   "outputs": [],
   "source": [
    "my_dictionary={\"name\":\"person 1\", \"age\":35,\"salary\":600}"
   ]
  },
  {
   "cell_type": "code",
   "execution_count": 4,
   "id": "977a56c1-c1c3-4ace-9d2c-f2a29b10385d",
   "metadata": {},
   "outputs": [
    {
     "name": "stdout",
     "output_type": "stream",
     "text": [
      "{'name': 'person 1', 'age': 35, 'salary': 600}\n"
     ]
    }
   ],
   "source": [
    "print(my_dictionary)"
   ]
  },
  {
   "cell_type": "markdown",
   "id": "cfff4a62-7b61-4890-af52-dfe5b401afd5",
   "metadata": {},
   "source": [
    "my_dictionary={\"name\":[\"person 1\",\"person 2\", \"person 3\",\"person 4\", \"person 5\"],\"age\":[35, 100, 34,456,67],\"salary\":[600,400,450,332,75000]} # this adds multiple people"
   ]
  },
  {
   "cell_type": "code",
   "execution_count": 7,
   "id": "01ca2a43-a3bc-40bf-9181-8ccf14791d22",
   "metadata": {},
   "outputs": [
    {
     "data": {
      "text/plain": [
       "{'name': ['person 1', 'person 2', 'person 3', 'person 4', 'person 5'],\n",
       " 'age': [35, 100, 34, 456, 67],\n",
       " 'salary': [600, 400, 450, 332, 75000]}"
      ]
     },
     "execution_count": 7,
     "metadata": {},
     "output_type": "execute_result"
    }
   ],
   "source": [
    "my_dictionary"
   ]
  },
  {
   "cell_type": "code",
   "execution_count": 9,
   "id": "255ac4e7-b4f0-4640-90c9-8d5fb095d369",
   "metadata": {},
   "outputs": [],
   "source": [
    "#to add another key location in the dictionary\n",
    "my_dictionary[\"location\"]= [\"kakamega\", \"mombasa\", \"kisumu\", \"moyale\", \"marsabit\"]"
   ]
  },
  {
   "cell_type": "code",
   "execution_count": 10,
   "id": "76132d36-e3f7-4417-bdf8-3a61b1ee6984",
   "metadata": {},
   "outputs": [
    {
     "data": {
      "text/plain": [
       "{'name': ['person 1', 'person 2', 'person 3', 'person 4', 'person 5'],\n",
       " 'age': [35, 100, 34, 456, 67],\n",
       " 'salary': [600, 400, 450, 332, 75000],\n",
       " 'location': ['kakamega', 'mombasa', 'kisumu', 'moyale', 'marsabit']}"
      ]
     },
     "execution_count": 10,
     "metadata": {},
     "output_type": "execute_result"
    }
   ],
   "source": [
    "my_dictionary"
   ]
  },
  {
   "cell_type": "code",
   "execution_count": null,
   "id": "691860c8-4fc9-4204-985d-28c9d6c8b44f",
   "metadata": {},
   "outputs": [],
   "source": [
    "#to delete a key use del\n",
    "del my_dictionary[\"age\"]"
   ]
  },
  {
   "cell_type": "code",
   "execution_count": 11,
   "id": "620228ae-c567-43f7-bff7-d977fa924691",
   "metadata": {},
   "outputs": [
    {
     "name": "stdout",
     "output_type": "stream",
     "text": [
      "name ['person 1', 'person 2', 'person 3', 'person 4', 'person 5']\n",
      "age [35, 100, 34, 456, 67]\n",
      "salary [600, 400, 450, 332, 75000]\n",
      "location ['kakamega', 'mombasa', 'kisumu', 'moyale', 'marsabit']\n"
     ]
    }
   ],
   "source": [
    "#to access everyitem in the dictionary\n",
    "for key, value in my_dictionary.items():\n",
    "    print(key,value)"
   ]
  },
  {
   "cell_type": "raw",
   "id": "0f6061ec-1599-408c-a2b5-61dba9e8f0bc",
   "metadata": {},
   "source": [
    "for key, value in my_dictionary.items():\n",
    "    print(key,value)"
   ]
  },
  {
   "cell_type": "code",
   "execution_count": 12,
   "id": "f7c190d2-dcdb-4073-b938-f654a1b967b0",
   "metadata": {},
   "outputs": [
    {
     "name": "stdout",
     "output_type": "stream",
     "text": [
      "name ['person 1', 'person 2', 'person 3', 'person 4', 'person 5']\n",
      "age [35, 100, 34, 456, 67]\n",
      "salary [600, 400, 450, 332, 75000]\n",
      "location ['kakamega', 'mombasa', 'kisumu', 'moyale', 'marsabit']\n"
     ]
    }
   ],
   "source": [
    "for key, value in my_dictionary.items():\n",
    "    print(key,value)"
   ]
  },
  {
   "cell_type": "code",
   "execution_count": 13,
   "id": "73ac6fa1-3642-4f94-8f90-6de31446c744",
   "metadata": {},
   "outputs": [
    {
     "data": {
      "text/plain": [
       "'create a dictionary with 2 students listing their age and gender\\nadd another key called specialization\\nadd another key called intern status\\ndelete key called age'"
      ]
     },
     "execution_count": 13,
     "metadata": {},
     "output_type": "execute_result"
    }
   ],
   "source": [
    "\"\"\"create a dictionary with 2 students listing their age and gender\n",
    "add another key called specialization\n",
    "add another key called intern status\n",
    "delete key called age\"\"\""
   ]
  },
  {
   "cell_type": "code",
   "execution_count": 23,
   "id": "4ee38b8c-1d27-4239-a9d9-ddee2b3e1408",
   "metadata": {},
   "outputs": [],
   "source": [
    "import pandas as pd"
   ]
  },
  {
   "cell_type": "code",
   "execution_count": 26,
   "id": "7f20892c-ddb4-4be5-9b56-de7ba6d11a47",
   "metadata": {},
   "outputs": [],
   "source": [
    "# we want to create a dataframe from the above dictionary, a df is\n",
    "df=pd.DataFrame(my_dictionary)"
   ]
  },
  {
   "cell_type": "code",
   "execution_count": 27,
   "id": "824ff74b-e71f-4e8c-96a6-2dc86590f483",
   "metadata": {},
   "outputs": [
    {
     "data": {
      "text/html": [
       "<div>\n",
       "<style scoped>\n",
       "    .dataframe tbody tr th:only-of-type {\n",
       "        vertical-align: middle;\n",
       "    }\n",
       "\n",
       "    .dataframe tbody tr th {\n",
       "        vertical-align: top;\n",
       "    }\n",
       "\n",
       "    .dataframe thead th {\n",
       "        text-align: right;\n",
       "    }\n",
       "</style>\n",
       "<table border=\"1\" class=\"dataframe\">\n",
       "  <thead>\n",
       "    <tr style=\"text-align: right;\">\n",
       "      <th></th>\n",
       "      <th>name</th>\n",
       "      <th>age</th>\n",
       "      <th>salary</th>\n",
       "      <th>location</th>\n",
       "    </tr>\n",
       "  </thead>\n",
       "  <tbody>\n",
       "    <tr>\n",
       "      <th>0</th>\n",
       "      <td>person 1</td>\n",
       "      <td>35</td>\n",
       "      <td>600</td>\n",
       "      <td>kakamega</td>\n",
       "    </tr>\n",
       "    <tr>\n",
       "      <th>1</th>\n",
       "      <td>person 2</td>\n",
       "      <td>100</td>\n",
       "      <td>400</td>\n",
       "      <td>mombasa</td>\n",
       "    </tr>\n",
       "    <tr>\n",
       "      <th>2</th>\n",
       "      <td>person 3</td>\n",
       "      <td>34</td>\n",
       "      <td>450</td>\n",
       "      <td>kisumu</td>\n",
       "    </tr>\n",
       "    <tr>\n",
       "      <th>3</th>\n",
       "      <td>person 4</td>\n",
       "      <td>456</td>\n",
       "      <td>332</td>\n",
       "      <td>moyale</td>\n",
       "    </tr>\n",
       "    <tr>\n",
       "      <th>4</th>\n",
       "      <td>person 5</td>\n",
       "      <td>67</td>\n",
       "      <td>75000</td>\n",
       "      <td>marsabit</td>\n",
       "    </tr>\n",
       "  </tbody>\n",
       "</table>\n",
       "</div>"
      ],
      "text/plain": [
       "       name  age  salary  location\n",
       "0  person 1   35     600  kakamega\n",
       "1  person 2  100     400   mombasa\n",
       "2  person 3   34     450    kisumu\n",
       "3  person 4  456     332    moyale\n",
       "4  person 5   67   75000  marsabit"
      ]
     },
     "execution_count": 27,
     "metadata": {},
     "output_type": "execute_result"
    }
   ],
   "source": [
    "df"
   ]
  },
  {
   "cell_type": "code",
   "execution_count": 28,
   "id": "0856078a-06c1-4bec-88a5-f18d23490703",
   "metadata": {},
   "outputs": [
    {
     "data": {
      "text/plain": [
       "0    person 1\n",
       "1    person 2\n",
       "2    person 3\n",
       "3    person 4\n",
       "4    person 5\n",
       "Name: name, dtype: object"
      ]
     },
     "execution_count": 28,
     "metadata": {},
     "output_type": "execute_result"
    }
   ],
   "source": [
    "df[\"name\"] # this is when you just want to acesss one column TO access more that one column use two [[]]"
   ]
  },
  {
   "cell_type": "code",
   "execution_count": 31,
   "id": "176c5077-d7ca-40d6-93b5-ffc9870fc97f",
   "metadata": {},
   "outputs": [
    {
     "data": {
      "text/plain": [
       "0     36\n",
       "1    101\n",
       "2     35\n",
       "3    457\n",
       "4     68\n",
       "Name: age, dtype: int64"
      ]
     },
     "execution_count": 31,
     "metadata": {},
     "output_type": "execute_result"
    }
   ],
   "source": [
    "df[\"age\"]+1"
   ]
  },
  {
   "cell_type": "code",
   "execution_count": null,
   "id": "72ee30e5-a174-49e7-b669-68682cf6552a",
   "metadata": {},
   "outputs": [],
   "source": []
  },
  {
   "cell_type": "code",
   "execution_count": 32,
   "id": "69fd8ca0-5d18-4194-8783-e1bb4a41ba3d",
   "metadata": {},
   "outputs": [
    {
     "data": {
      "text/plain": [
       "name        object\n",
       "age          int64\n",
       "salary       int64\n",
       "location    object\n",
       "dtype: object"
      ]
     },
     "execution_count": 32,
     "metadata": {},
     "output_type": "execute_result"
    }
   ],
   "source": [
    "df.dtypes\n"
   ]
  },
  {
   "cell_type": "code",
   "execution_count": 33,
   "id": "b1b84770-17ab-43be-a8e9-7f07d6d16c9c",
   "metadata": {},
   "outputs": [
    {
     "data": {
      "text/html": [
       "<div>\n",
       "<style scoped>\n",
       "    .dataframe tbody tr th:only-of-type {\n",
       "        vertical-align: middle;\n",
       "    }\n",
       "\n",
       "    .dataframe tbody tr th {\n",
       "        vertical-align: top;\n",
       "    }\n",
       "\n",
       "    .dataframe thead th {\n",
       "        text-align: right;\n",
       "    }\n",
       "</style>\n",
       "<table border=\"1\" class=\"dataframe\">\n",
       "  <thead>\n",
       "    <tr style=\"text-align: right;\">\n",
       "      <th></th>\n",
       "      <th>name</th>\n",
       "      <th>age</th>\n",
       "      <th>salary</th>\n",
       "      <th>location</th>\n",
       "    </tr>\n",
       "  </thead>\n",
       "  <tbody>\n",
       "    <tr>\n",
       "      <th>0</th>\n",
       "      <td>person 1</td>\n",
       "      <td>35</td>\n",
       "      <td>600</td>\n",
       "      <td>kakamega</td>\n",
       "    </tr>\n",
       "    <tr>\n",
       "      <th>1</th>\n",
       "      <td>person 2</td>\n",
       "      <td>100</td>\n",
       "      <td>400</td>\n",
       "      <td>mombasa</td>\n",
       "    </tr>\n",
       "    <tr>\n",
       "      <th>2</th>\n",
       "      <td>person 3</td>\n",
       "      <td>34</td>\n",
       "      <td>450</td>\n",
       "      <td>kisumu</td>\n",
       "    </tr>\n",
       "    <tr>\n",
       "      <th>3</th>\n",
       "      <td>person 4</td>\n",
       "      <td>456</td>\n",
       "      <td>332</td>\n",
       "      <td>moyale</td>\n",
       "    </tr>\n",
       "    <tr>\n",
       "      <th>4</th>\n",
       "      <td>person 5</td>\n",
       "      <td>67</td>\n",
       "      <td>75000</td>\n",
       "      <td>marsabit</td>\n",
       "    </tr>\n",
       "  </tbody>\n",
       "</table>\n",
       "</div>"
      ],
      "text/plain": [
       "       name  age  salary  location\n",
       "0  person 1   35     600  kakamega\n",
       "1  person 2  100     400   mombasa\n",
       "2  person 3   34     450    kisumu\n",
       "3  person 4  456     332    moyale\n",
       "4  person 5   67   75000  marsabit"
      ]
     },
     "execution_count": 33,
     "metadata": {},
     "output_type": "execute_result"
    }
   ],
   "source": [
    "df"
   ]
  },
  {
   "cell_type": "code",
   "execution_count": 40,
   "id": "ef055417-84f8-4f7a-b4cb-55522bc564e7",
   "metadata": {},
   "outputs": [],
   "source": [
    "#to update the new age in the table, \n",
    "df[\"age\"]=df[\"age\"]+1"
   ]
  },
  {
   "cell_type": "code",
   "execution_count": 43,
   "id": "0178318c-754a-48cb-aab7-c396650ad9a4",
   "metadata": {},
   "outputs": [
    {
     "data": {
      "text/plain": [
       "0      602\n",
       "1      402\n",
       "2      452\n",
       "3      334\n",
       "4    75002\n",
       "Name: salary, dtype: int64"
      ]
     },
     "execution_count": 43,
     "metadata": {},
     "output_type": "execute_result"
    }
   ],
   "source": [
    "df[\"salary\"]+2"
   ]
  },
  {
   "cell_type": "code",
   "execution_count": 44,
   "id": "c7ac8b9f-df2f-446f-bad1-8a2b0407e8cf",
   "metadata": {},
   "outputs": [],
   "source": [
    "df[\"salary\"]=df[\"salary\"]+2"
   ]
  },
  {
   "cell_type": "code",
   "execution_count": 45,
   "id": "f3d3a70d-d689-465d-911e-65531478159c",
   "metadata": {},
   "outputs": [
    {
     "data": {
      "text/html": [
       "<div>\n",
       "<style scoped>\n",
       "    .dataframe tbody tr th:only-of-type {\n",
       "        vertical-align: middle;\n",
       "    }\n",
       "\n",
       "    .dataframe tbody tr th {\n",
       "        vertical-align: top;\n",
       "    }\n",
       "\n",
       "    .dataframe thead th {\n",
       "        text-align: right;\n",
       "    }\n",
       "</style>\n",
       "<table border=\"1\" class=\"dataframe\">\n",
       "  <thead>\n",
       "    <tr style=\"text-align: right;\">\n",
       "      <th></th>\n",
       "      <th>name</th>\n",
       "      <th>age</th>\n",
       "      <th>salary</th>\n",
       "      <th>location</th>\n",
       "    </tr>\n",
       "  </thead>\n",
       "  <tbody>\n",
       "    <tr>\n",
       "      <th>0</th>\n",
       "      <td>person 1</td>\n",
       "      <td>40</td>\n",
       "      <td>602</td>\n",
       "      <td>kakamega</td>\n",
       "    </tr>\n",
       "    <tr>\n",
       "      <th>1</th>\n",
       "      <td>person 2</td>\n",
       "      <td>105</td>\n",
       "      <td>402</td>\n",
       "      <td>mombasa</td>\n",
       "    </tr>\n",
       "    <tr>\n",
       "      <th>2</th>\n",
       "      <td>person 3</td>\n",
       "      <td>39</td>\n",
       "      <td>452</td>\n",
       "      <td>kisumu</td>\n",
       "    </tr>\n",
       "    <tr>\n",
       "      <th>3</th>\n",
       "      <td>person 4</td>\n",
       "      <td>461</td>\n",
       "      <td>334</td>\n",
       "      <td>moyale</td>\n",
       "    </tr>\n",
       "    <tr>\n",
       "      <th>4</th>\n",
       "      <td>person 5</td>\n",
       "      <td>72</td>\n",
       "      <td>75002</td>\n",
       "      <td>marsabit</td>\n",
       "    </tr>\n",
       "  </tbody>\n",
       "</table>\n",
       "</div>"
      ],
      "text/plain": [
       "       name  age  salary  location\n",
       "0  person 1   40     602  kakamega\n",
       "1  person 2  105     402   mombasa\n",
       "2  person 3   39     452    kisumu\n",
       "3  person 4  461     334    moyale\n",
       "4  person 5   72   75002  marsabit"
      ]
     },
     "execution_count": 45,
     "metadata": {},
     "output_type": "execute_result"
    }
   ],
   "source": [
    "df"
   ]
  },
  {
   "cell_type": "code",
   "execution_count": 51,
   "id": "44530ee9-bf12-4efe-b568-8ad1aa9b40b8",
   "metadata": {},
   "outputs": [],
   "source": [
    "df[\"age\"],df [\"salary\"]= df[\"age\"]+1, df[\"salary\"]+500\n"
   ]
  },
  {
   "cell_type": "code",
   "execution_count": 52,
   "id": "cd5712e1-035e-4c11-a598-f92ff72ec086",
   "metadata": {},
   "outputs": [
    {
     "data": {
      "text/html": [
       "<div>\n",
       "<style scoped>\n",
       "    .dataframe tbody tr th:only-of-type {\n",
       "        vertical-align: middle;\n",
       "    }\n",
       "\n",
       "    .dataframe tbody tr th {\n",
       "        vertical-align: top;\n",
       "    }\n",
       "\n",
       "    .dataframe thead th {\n",
       "        text-align: right;\n",
       "    }\n",
       "</style>\n",
       "<table border=\"1\" class=\"dataframe\">\n",
       "  <thead>\n",
       "    <tr style=\"text-align: right;\">\n",
       "      <th></th>\n",
       "      <th>name</th>\n",
       "      <th>age</th>\n",
       "      <th>salary</th>\n",
       "      <th>location</th>\n",
       "    </tr>\n",
       "  </thead>\n",
       "  <tbody>\n",
       "    <tr>\n",
       "      <th>0</th>\n",
       "      <td>person 1</td>\n",
       "      <td>41</td>\n",
       "      <td>1102</td>\n",
       "      <td>kakamega</td>\n",
       "    </tr>\n",
       "    <tr>\n",
       "      <th>1</th>\n",
       "      <td>person 2</td>\n",
       "      <td>106</td>\n",
       "      <td>902</td>\n",
       "      <td>mombasa</td>\n",
       "    </tr>\n",
       "    <tr>\n",
       "      <th>2</th>\n",
       "      <td>person 3</td>\n",
       "      <td>40</td>\n",
       "      <td>952</td>\n",
       "      <td>kisumu</td>\n",
       "    </tr>\n",
       "    <tr>\n",
       "      <th>3</th>\n",
       "      <td>person 4</td>\n",
       "      <td>462</td>\n",
       "      <td>834</td>\n",
       "      <td>moyale</td>\n",
       "    </tr>\n",
       "    <tr>\n",
       "      <th>4</th>\n",
       "      <td>person 5</td>\n",
       "      <td>73</td>\n",
       "      <td>75502</td>\n",
       "      <td>marsabit</td>\n",
       "    </tr>\n",
       "  </tbody>\n",
       "</table>\n",
       "</div>"
      ],
      "text/plain": [
       "       name  age  salary  location\n",
       "0  person 1   41    1102  kakamega\n",
       "1  person 2  106     902   mombasa\n",
       "2  person 3   40     952    kisumu\n",
       "3  person 4  462     834    moyale\n",
       "4  person 5   73   75502  marsabit"
      ]
     },
     "execution_count": 52,
     "metadata": {},
     "output_type": "execute_result"
    }
   ],
   "source": [
    "df"
   ]
  }
 ],
 "metadata": {
  "kernelspec": {
   "display_name": "Python 3 (ipykernel)",
   "language": "python",
   "name": "python3"
  },
  "language_info": {
   "codemirror_mode": {
    "name": "ipython",
    "version": 3
   },
   "file_extension": ".py",
   "mimetype": "text/x-python",
   "name": "python",
   "nbconvert_exporter": "python",
   "pygments_lexer": "ipython3",
   "version": "3.12.4"
  }
 },
 "nbformat": 4,
 "nbformat_minor": 5
}
