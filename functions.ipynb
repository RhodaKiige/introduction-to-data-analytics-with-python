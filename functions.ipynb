{
 "cells": [
  {
   "cell_type": "code",
   "execution_count": 5,
   "id": "acdac7fe-cf8e-4bd2-bfed-c9fffa6ec2bf",
   "metadata": {},
   "outputs": [],
   "source": [
    "def family():\n",
    "    print(\"family members\")\n",
    "    "
   ]
  },
  {
   "cell_type": "code",
   "execution_count": 6,
   "id": "1bf40257-169c-4098-8ea7-4b69222a0e1f",
   "metadata": {},
   "outputs": [
    {
     "name": "stdout",
     "output_type": "stream",
     "text": [
      "family members\n"
     ]
    }
   ],
   "source": [
    "family()"
   ]
  },
  {
   "cell_type": "code",
   "execution_count": 25,
   "id": "8d993e0d-1a4d-4b76-88d4-d73f8623f4b0",
   "metadata": {},
   "outputs": [],
   "source": [
    "def add(a,b):\n",
    "    results= a+b\n",
    "    print (results)\n",
    "    return results "
   ]
  },
  {
   "cell_type": "code",
   "execution_count": 26,
   "id": "1af42fce-5536-4d60-9bdf-ba21bdd220d2",
   "metadata": {},
   "outputs": [
    {
     "name": "stdout",
     "output_type": "stream",
     "text": [
      "12\n"
     ]
    }
   ],
   "source": [
    "x=add(6,6)"
   ]
  },
  {
   "cell_type": "code",
   "execution_count": 29,
   "id": "ce5dc506-474a-4f4a-9320-f197943f8cd6",
   "metadata": {},
   "outputs": [],
   "source": [
    "def multipl(a,b):\n",
    "    mult=a*b\n",
    "    return mult"
   ]
  },
  {
   "cell_type": "code",
   "execution_count": 33,
   "id": "9699d62b-ce6b-42cc-b737-a012893c082b",
   "metadata": {},
   "outputs": [
    {
     "data": {
      "text/plain": [
       "24"
      ]
     },
     "execution_count": 33,
     "metadata": {},
     "output_type": "execute_result"
    }
   ],
   "source": [
    "multipl(4,6)"
   ]
  },
  {
   "cell_type": "code",
   "execution_count": 36,
   "id": "bf4c251e-4870-42f0-8a68-3da71c70bcb2",
   "metadata": {},
   "outputs": [
    {
     "data": {
      "text/plain": [
       "4"
      ]
     },
     "execution_count": 36,
     "metadata": {},
     "output_type": "execute_result"
    }
   ],
   "source": [
    "min(4,7,100)# here we are using an in built function min()"
   ]
  },
  {
   "cell_type": "code",
   "execution_count": 39,
   "id": "124a6d3c-245e-4a7b-b677-b3e6b5a0f9a4",
   "metadata": {},
   "outputs": [
    {
     "data": {
      "text/plain": [
       "5"
      ]
     },
     "execution_count": 39,
     "metadata": {},
     "output_type": "execute_result"
    }
   ],
   "source": [
    "len('rhoda')"
   ]
  },
  {
   "cell_type": "code",
   "execution_count": 46,
   "id": "aa619f2b-5d69-4a97-b3b6-87e070c3445f",
   "metadata": {},
   "outputs": [
    {
     "data": {
      "text/plain": [
       "4"
      ]
     },
     "execution_count": 46,
     "metadata": {},
     "output_type": "execute_result"
    }
   ],
   "source": [
    "len('judy')"
   ]
  },
  {
   "cell_type": "code",
   "execution_count": 48,
   "id": "d2ccb653-3eb9-4497-9229-14456a086d6d",
   "metadata": {},
   "outputs": [
    {
     "name": "stdout",
     "output_type": "stream",
     "text": [
      "1\n"
     ]
    }
   ],
   "source": [
    "#LIST\n",
    "My_list= [1,2,3,4,5]\n",
    "print(My_list[0])"
   ]
  },
  {
   "cell_type": "code",
   "execution_count": 50,
   "id": "7b048702-dbc8-4f47-8566-42ff7f84451b",
   "metadata": {},
   "outputs": [
    {
     "data": {
      "text/plain": [
       "'onions'"
      ]
     },
     "execution_count": 50,
     "metadata": {},
     "output_type": "execute_result"
    }
   ],
   "source": [
    "#example 2\n",
    "grocery=['tomato', 'onions', 'carrots']\n",
    "grocery[1]\n"
   ]
  },
  {
   "cell_type": "code",
   "execution_count": 54,
   "id": "7252fa52-040b-4343-9ee1-70315ca844ce",
   "metadata": {},
   "outputs": [
    {
     "name": "stdout",
     "output_type": "stream",
     "text": [
      "tomato\n",
      "onions\n"
     ]
    }
   ],
   "source": [
    "for item in grocery:\n",
    "    print (item)\n",
    "    if item ==\"onions\":\n",
    "        break\n",
    "    "
   ]
  },
  {
   "cell_type": "code",
   "execution_count": 57,
   "id": "7b6ced9e-b39f-4096-bf3f-394371399509",
   "metadata": {},
   "outputs": [
    {
     "name": "stdout",
     "output_type": "stream",
     "text": [
      "tomato\n",
      "onions\n",
      "carrots\n",
      "['tomato', 'onions', 'carrots']\n"
     ]
    }
   ],
   "source": [
    "grocery=['tomato', 'onions', 'carrots']\n",
    "#here we are using for loop to access every item in the list named grocery\n",
    "ind=0 # it will start indexing at 0\n",
    "for item in grocery:\n",
    "    print (item)\n",
    "print(grocery)\n"
   ]
  },
  {
   "cell_type": "code",
   "execution_count": 59,
   "id": "b799507d-411e-458e-b7c0-a0d8f17876b5",
   "metadata": {},
   "outputs": [
    {
     "name": "stdout",
     "output_type": "stream",
     "text": [
      "['tomato', 'onions', 'carrots']\n"
     ]
    }
   ],
   "source": [
    "grocery=['tomato', 'onions', 'carrots']\n",
    "ind=0\n",
    "for item in grocery:\n",
    "    if item == \"onion\":\n",
    "        grocery[ind]= 'kitunguu'#this is mutation that is changing items in a list, index is unknown hence increament\n",
    "        ind=ind+1\n",
    "print(grocery)"
   ]
  },
  {
   "cell_type": "code",
   "execution_count": 61,
   "id": "a30f2eb7-ce57-49de-95aa-e3083a9a58aa",
   "metadata": {},
   "outputs": [
    {
     "name": "stdout",
     "output_type": "stream",
     "text": [
      "['tomato', 'onions', 'carrots', 'cabbage', 'cabbage']\n"
     ]
    }
   ],
   "source": [
    "# we want to add cabbage to the list\n",
    "grocery.append('cabbage')\n",
    "print(grocery)"
   ]
  },
  {
   "cell_type": "code",
   "execution_count": 66,
   "id": "e37ad26b-7a16-4d02-9286-c8d04f0bc6dc",
   "metadata": {},
   "outputs": [
    {
     "data": {
      "text/plain": [
       "['tomato', 'onions', 'carrots', 'cabbage', 'cabbage']"
      ]
     },
     "execution_count": 66,
     "metadata": {},
     "output_type": "execute_result"
    }
   ],
   "source": [
    "grocery.copy()"
   ]
  },
  {
   "cell_type": "code",
   "execution_count": 75,
   "id": "561e4f82-ffe7-40d4-8e40-55ef48f24cad",
   "metadata": {},
   "outputs": [
    {
     "data": {
      "text/plain": [
       "['cabbage', 'cabbage', 'carrots', 'onions', 'tomato']"
      ]
     },
     "execution_count": 75,
     "metadata": {},
     "output_type": "execute_result"
    }
   ],
   "source": [
    "grocery"
   ]
  },
  {
   "cell_type": "code",
   "execution_count": 76,
   "id": "251adfd0-d5be-49c7-9b7d-9ca92e72bf4f",
   "metadata": {},
   "outputs": [],
   "source": [
    "grocery.sort()"
   ]
  },
  {
   "cell_type": "code",
   "execution_count": 87,
   "id": "1aa000fb-b378-4f2a-9bf2-f0688b3ed9f9",
   "metadata": {},
   "outputs": [],
   "source": [
    "def divi(a,b,c):\n",
    "    division=a/b+c\n",
    "    return division\n"
   ]
  },
  {
   "cell_type": "code",
   "execution_count": 89,
   "id": "2f4c1d69-ae20-47ca-b9a2-2186f3b03508",
   "metadata": {},
   "outputs": [
    {
     "data": {
      "text/plain": [
       "13.0"
      ]
     },
     "execution_count": 89,
     "metadata": {},
     "output_type": "execute_result"
    }
   ],
   "source": [
    "divi(55,5,2)"
   ]
  },
  {
   "cell_type": "code",
   "execution_count": null,
   "id": "b25f8eaf-771f-4827-8b3c-a933572093ee",
   "metadata": {},
   "outputs": [],
   "source": [
    "dictionaries\n"
   ]
  }
 ],
 "metadata": {
  "kernelspec": {
   "display_name": "Python 3 (ipykernel)",
   "language": "python",
   "name": "python3"
  },
  "language_info": {
   "codemirror_mode": {
    "name": "ipython",
    "version": 3
   },
   "file_extension": ".py",
   "mimetype": "text/x-python",
   "name": "python",
   "nbconvert_exporter": "python",
   "pygments_lexer": "ipython3",
   "version": "3.12.4"
  }
 },
 "nbformat": 4,
 "nbformat_minor": 5
}
