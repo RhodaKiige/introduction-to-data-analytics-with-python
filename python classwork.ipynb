{
 "cells": [
  {
   "cell_type": "code",
   "execution_count": 15,
   "id": "ab38f96d-e997-49b7-96fc-746bf9b6debd",
   "metadata": {},
   "outputs": [],
   "source": [
    "first=\"darlsy\"\n",
    "second=\"lida\""
   ]
  },
  {
   "cell_type": "code",
   "execution_count": 2,
   "id": "9d7611bc-f922-4125-9801-52733f01ac7a",
   "metadata": {},
   "outputs": [
    {
     "data": {
      "text/plain": [
       "'darlsylida'"
      ]
     },
     "execution_count": 2,
     "metadata": {},
     "output_type": "execute_result"
    }
   ],
   "source": [
    "first+second #this one the output does not have space between the names"
   ]
  },
  {
   "cell_type": "code",
   "execution_count": 6,
   "id": "ae08df21-1814-42b3-8572-1603d98c3f41",
   "metadata": {},
   "outputs": [
    {
     "data": {
      "text/plain": [
       "'darlsy lida'"
      ]
     },
     "execution_count": 6,
     "metadata": {},
     "output_type": "execute_result"
    }
   ],
   "source": [
    "first+ \" \"+second # add a space between the names, btn the quotation marks is a space"
   ]
  },
  {
   "cell_type": "code",
   "execution_count": 7,
   "id": "1bd496ac-70e8-46c1-9d4a-d44d53370977",
   "metadata": {},
   "outputs": [
    {
     "data": {
      "text/plain": [
       "'darlsydarlsy'"
      ]
     },
     "execution_count": 7,
     "metadata": {},
     "output_type": "execute_result"
    }
   ],
   "source": [
    "first*2 # adding repetition of a name"
   ]
  },
  {
   "cell_type": "code",
   "execution_count": 11,
   "id": "29f44050-ce92-4ba9-8b6a-4d9059ce4afd",
   "metadata": {},
   "outputs": [
    {
     "data": {
      "text/plain": [
       "('darlsydarlsydarlsy', 'lidalidalida')"
      ]
     },
     "execution_count": 11,
     "metadata": {},
     "output_type": "execute_result"
    }
   ],
   "source": [
    "first*3,second*3"
   ]
  },
  {
   "cell_type": "code",
   "execution_count": 23,
   "id": "eb55b141-4710-4fae-9c7b-8ce8aa83bd9c",
   "metadata": {},
   "outputs": [],
   "source": [
    "second='Otieno' #this is a trial example to index"
   ]
  },
  {
   "cell_type": "code",
   "execution_count": 24,
   "id": "25922a03-ade5-436c-abf7-a960a16051fe",
   "metadata": {},
   "outputs": [
    {
     "data": {
      "text/plain": [
       "'O'"
      ]
     },
     "execution_count": 24,
     "metadata": {},
     "output_type": "execute_result"
    }
   ],
   "source": [
    "second[0]"
   ]
  },
  {
   "cell_type": "code",
   "execution_count": 14,
   "id": "347b8a50-0b2a-49b7-991c-5512759bf71f",
   "metadata": {},
   "outputs": [
    {
     "data": {
      "text/plain": [
       "'o'"
      ]
     },
     "execution_count": 14,
     "metadata": {},
     "output_type": "execute_result"
    }
   ],
   "source": [
    "second[5]"
   ]
  },
  {
   "cell_type": "code",
   "execution_count": 25,
   "id": "ce27d2ab-efcb-4365-8899-a5b4a138c96e",
   "metadata": {},
   "outputs": [
    {
     "data": {
      "text/plain": [
       "'darlsy Otieno'"
      ]
     },
     "execution_count": 25,
     "metadata": {},
     "output_type": "execute_result"
    }
   ],
   "source": [
    "fullname= first+\" \"+ second\n",
    "fullname"
   ]
  },
  {
   "cell_type": "code",
   "execution_count": 27,
   "id": "d7eed5a5-b1c4-43ef-aa49-57c76e13568a",
   "metadata": {},
   "outputs": [
    {
     "data": {
      "text/plain": [
       "'tieno'"
      ]
     },
     "execution_count": 27,
     "metadata": {},
     "output_type": "execute_result"
    }
   ],
   "source": [
    "fullname[8:14] #this is slicing this is done to get the first name, please note python counts steps not characters in a string"
   ]
  },
  {
   "cell_type": "code",
   "execution_count": 28,
   "id": "18578de8-2fc4-43b2-b042-91cbba54f288",
   "metadata": {},
   "outputs": [
    {
     "data": {
      "text/plain": [
       "'t'"
      ]
     },
     "execution_count": 28,
     "metadata": {},
     "output_type": "execute_result"
    }
   ],
   "source": [
    "fullname [-5] #this is not well understood"
   ]
  },
  {
   "cell_type": "code",
   "execution_count": 31,
   "id": "f27e5d72-3c0b-4c84-beef-af90ba428351",
   "metadata": {},
   "outputs": [
    {
     "name": "stdin",
     "output_type": "stream",
     "text": [
      "enter first name: cynthia\n"
     ]
    }
   ],
   "source": [
    "name=input(\"enter first name:\") # this is to allow someone to enter a value"
   ]
  },
  {
   "cell_type": "code",
   "execution_count": 37,
   "id": "26b93193-19ea-41a8-a0d8-019296599dd0",
   "metadata": {},
   "outputs": [
    {
     "name": "stdout",
     "output_type": "stream",
     "text": [
      "cynthia\n"
     ]
    }
   ],
   "source": [
    "print(name)"
   ]
  },
  {
   "cell_type": "code",
   "execution_count": 38,
   "id": "b6732964-0286-410e-b55c-9d03d974311b",
   "metadata": {},
   "outputs": [
    {
     "name": "stdin",
     "output_type": "stream",
     "text": [
      "second name otieno\n"
     ]
    }
   ],
   "source": [
    "name=input('second name')"
   ]
  },
  {
   "cell_type": "code",
   "execution_count": 47,
   "id": "c7e8d019-edcb-4672-b71c-e2f015d32443",
   "metadata": {},
   "outputs": [
    {
     "name": "stdout",
     "output_type": "stream",
     "text": [
      "otieno\n"
     ]
    }
   ],
   "source": [
    "print(name)"
   ]
  },
  {
   "cell_type": "code",
   "execution_count": 48,
   "id": "9a5141e0-f011-4ced-948a-27caf76930e9",
   "metadata": {},
   "outputs": [
    {
     "name": "stdout",
     "output_type": "stream",
     "text": [
      "0\n",
      "1\n",
      "2\n",
      "3\n",
      "4\n",
      "5\n",
      "6\n",
      "7\n",
      "8\n",
      "9\n",
      "10\n"
     ]
    }
   ],
   "source": [
    "for i in range (11): # this prints for the values in the range starting from zero so the range is 0to 10 ie 11 steps\n",
    "    print (i)"
   ]
  },
  {
   "cell_type": "code",
   "execution_count": 49,
   "id": "42aad85b-1352-4799-9928-a5a7389d89b8",
   "metadata": {},
   "outputs": [
    {
     "name": "stdout",
     "output_type": "stream",
     "text": [
      "d\n",
      "a\n",
      "r\n",
      "l\n",
      "s\n",
      "y\n",
      " \n",
      "O\n",
      "t\n",
      "i\n",
      "e\n",
      "n\n",
      "o\n"
     ]
    }
   ],
   "source": [
    "for chr in fullname: # chr is a variable, in for loop you do not have to define a variable before using it\n",
    "    print(chr)"
   ]
  },
  {
   "cell_type": "code",
   "execution_count": 52,
   "id": "bdaf01f8-1576-421b-ab56-d059b75d47e7",
   "metadata": {},
   "outputs": [
    {
     "name": "stdout",
     "output_type": "stream",
     "text": [
      "0\n",
      "2\n",
      "4\n",
      "6\n",
      "8\n"
     ]
    }
   ],
   "source": [
    "for i in range (0,9,2): # the range here is 1 to 9 the 2 here represents steps to make\n",
    "    print (i)"
   ]
  },
  {
   "cell_type": "code",
   "execution_count": 1,
   "id": "0eea0995-4495-4aa7-b122-45d52468cfce",
   "metadata": {},
   "outputs": [
    {
     "name": "stdout",
     "output_type": "stream",
     "text": [
      "1\n",
      "2\n",
      "3\n",
      "4\n",
      "5\n",
      "6\n",
      "7\n",
      "8\n",
      "9\n",
      "10\n"
     ]
    }
   ],
   "source": [
    "\"\"\"\n",
    "we want to use a for loop to get a series\n",
    "like autofill in excel\n",
    "\"\"\"\n",
    "#1,2,3,4,5,6,7,8,9,10\n",
    "for x in range(1,11):\n",
    "    print (x)"
   ]
  },
  {
   "cell_type": "code",
   "execution_count": 2,
   "id": "c9ea1b89-1fa1-4892-8e2b-17e838c629a7",
   "metadata": {},
   "outputs": [
    {
     "name": "stdout",
     "output_type": "stream",
     "text": [
      "1,2,3,4,5,6,7,8,9,10,"
     ]
    }
   ],
   "source": [
    "#1,2,3,4,5,6,7,8,9,10\n",
    "for x in range(1,11): # we want to tell python to print in a straight line, we will use end\n",
    "    print (x,end=',')"
   ]
  },
  {
   "cell_type": "code",
   "execution_count": 5,
   "id": "9220c259-c6e2-4fa3-849e-a7da47400cde",
   "metadata": {},
   "outputs": [
    {
     "name": "stdout",
     "output_type": "stream",
     "text": [
      "1,2,3,4,5,6,7,8,9,10,\n",
      " 55\n"
     ]
    }
   ],
   "source": [
    "#1,2,3,4,5,6,7,8,9,10\n",
    "total=0\n",
    "for x in range (1,11):\n",
    "    total+=x\n",
    "    print(x,end=\",\")\n",
    "\n",
    "print('\\n',total) # n commands to go to the next line\n"
   ]
  },
  {
   "cell_type": "code",
   "execution_count": null,
   "id": "0f2a33a1-5e26-4fd0-8f99-28d239451ad8",
   "metadata": {},
   "outputs": [],
   "source": [
    "#2,4,6,8,10\n",
    "for x"
   ]
  },
  {
   "cell_type": "code",
   "execution_count": 7,
   "id": "caa70f66-3d70-4b54-8323-2cecf71c57ea",
   "metadata": {},
   "outputs": [
    {
     "name": "stdout",
     "output_type": "stream",
     "text": [
      "1\n",
      "5\n",
      "9\n",
      "13\n",
      "17\n",
      "21\n",
      "25\n",
      "29\n",
      "33\n"
     ]
    }
   ],
   "source": [
    "for x in range (1,36,4): #\n",
    "    print (x)"
   ]
  },
  {
   "cell_type": "code",
   "execution_count": 2,
   "id": "866f9d9e-eaf5-4498-8917-6f6d129e979f",
   "metadata": {},
   "outputs": [
    {
     "name": "stdin",
     "output_type": "stream",
     "text": [
      "enter age 70\n",
      "enter age 90\n",
      "enter age 80\n",
      "enter age 70\n",
      "enter age 89\n"
     ]
    },
    {
     "name": "stdout",
     "output_type": "stream",
     "text": [
      "\n",
      " 399 79.8\n"
     ]
    }
   ],
   "source": [
    "total=0\n",
    "for x in range (5):\n",
    "    x= int(input('enter age'))\n",
    "    total +=x\n",
    "\n",
    "print (\"\\n\",total,total/5)\n",
    "# n means print in one line"
   ]
  },
  {
   "cell_type": "code",
   "execution_count": 7,
   "id": "cd8f9047-728b-4a0e-b33c-cb8c3e6d7547",
   "metadata": {},
   "outputs": [
    {
     "name": "stdin",
     "output_type": "stream",
     "text": [
      "enter age 8\n",
      "enter age 6\n",
      "enter age 7\n",
      "enter age 2\n"
     ]
    },
    {
     "name": "stdout",
     "output_type": "stream",
     "text": [
      "105.5\n"
     ]
    }
   ],
   "source": [
    "\"\"\" we want to convert the for loop into while loop\n",
    "you must define a variable\n",
    "\"\"\"\n",
    "count=0\n",
    "while count< 4:\n",
    "    x=int(input('enter age'))\n",
    "    total +=x\n",
    "    count+=1 #this is increament of count\n",
    "\n",
    "print (total/count)"
   ]
  },
  {
   "cell_type": "code",
   "execution_count": 8,
   "id": "5337f946-228b-488a-86b7-a18a38016d44",
   "metadata": {},
   "outputs": [
    {
     "name": "stdout",
     "output_type": "stream",
     "text": [
      "0\n",
      "1\n",
      "2\n",
      "3\n",
      "4\n"
     ]
    }
   ],
   "source": [
    "for i in range (5):\n",
    "    print (i)\n",
    "    "
   ]
  },
  {
   "cell_type": "code",
   "execution_count": 11,
   "id": "3d5c52d8-751e-4b1d-8cdc-9c3823828162",
   "metadata": {},
   "outputs": [
    {
     "name": "stdout",
     "output_type": "stream",
     "text": [
      "r\n",
      "h\n",
      "o\n",
      "d\n",
      "a\n"
     ]
    }
   ],
   "source": [
    "for char in ('rhoda'):\n",
    "    print (char)"
   ]
  },
  {
   "cell_type": "code",
   "execution_count": 16,
   "id": "0d98f76c-3df4-4728-98f7-42dd11bfc8db",
   "metadata": {},
   "outputs": [
    {
     "name": "stdout",
     "output_type": "stream",
     "text": [
      "E\n"
     ]
    }
   ],
   "source": [
    "\"\"\"conditioning statements\n",
    "if, elif, else\n",
    "\"\"\"\n",
    "score = 30\n",
    "\n",
    "if score >=90:\n",
    "    print (\"A\")\n",
    "elif score >=80:\n",
    "    print (\"B\")\n",
    "elif score>=70:\n",
    "    print (\"C\")\n",
    "elif score >=60:\n",
    "    print (\"D\")\n",
    "else:\n",
    "    print(\"E\") "
   ]
  },
  {
   "cell_type": "code",
   "execution_count": 4,
   "id": "9cfb3478-ffd5-45a9-beca-be3842c4e7cd",
   "metadata": {},
   "outputs": [
    {
     "name": "stdin",
     "output_type": "stream",
     "text": [
      "Name cindy\n"
     ]
    }
   ],
   "source": [
    "check=True\n",
    "while check:\n",
    "    name=input (\"Name\")\n",
    "    if \"Rhoda\" or \"rhoda\" in name:\n",
    "        check= False   # why is it printing just once? "
   ]
  },
  {
   "cell_type": "code",
   "execution_count": null,
   "id": "a7c12a6c-c7a5-49d2-9504-60bffa950895",
   "metadata": {},
   "outputs": [],
   "source": []
  },
  {
   "cell_type": "code",
   "execution_count": null,
   "id": "03252fbc-4d05-49b2-be4b-dea1161258ac",
   "metadata": {},
   "outputs": [],
   "source": []
  }
 ],
 "metadata": {
  "kernelspec": {
   "display_name": "Python 3 (ipykernel)",
   "language": "python",
   "name": "python3"
  },
  "language_info": {
   "codemirror_mode": {
    "name": "ipython",
    "version": 3
   },
   "file_extension": ".py",
   "mimetype": "text/x-python",
   "name": "python",
   "nbconvert_exporter": "python",
   "pygments_lexer": "ipython3",
   "version": "3.12.4"
  }
 },
 "nbformat": 4,
 "nbformat_minor": 5
}
